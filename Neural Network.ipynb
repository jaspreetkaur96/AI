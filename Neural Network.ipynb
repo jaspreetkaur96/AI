{
 "cells": [
  {
   "cell_type": "code",
   "execution_count": 1,
   "metadata": {},
   "outputs": [
    {
     "data": {
      "text/markdown": [
       "**Result for::**0\n",
       "**iteration**"
      ],
      "text/plain": [
       "<IPython.core.display.Markdown object>"
      ]
     },
     "metadata": {},
     "output_type": "display_data"
    },
    {
     "name": "stdout",
     "output_type": "stream",
     "text": [
      "for iteration # 0\n",
      "\n",
      "Input: \n",
      "[[0.6 0.1]\n",
      " [0.2 0.3]]\n",
      "Actual Output: \n",
      "[[1 0]\n",
      " [0 1]]\n",
      "Predicted Output: \n",
      "[[0.53425386 0.65416086]\n",
      " [0.5399067  0.65659313]]\n",
      "Loss: \n",
      "0.26356835288979574\n",
      "\n",
      "\n"
     ]
    },
    {
     "data": {
      "text/markdown": [
       "**Result for::**1\n",
       "**iteration**"
      ],
      "text/plain": [
       "<IPython.core.display.Markdown object>"
      ]
     },
     "metadata": {},
     "output_type": "display_data"
    },
    {
     "name": "stdout",
     "output_type": "stream",
     "text": [
      "for iteration # 1\n",
      "\n",
      "Input: \n",
      "[[0.6 0.1]\n",
      " [0.2 0.3]]\n",
      "Actual Output: \n",
      "[[1 0]\n",
      " [0 1]]\n",
      "Predicted Output: \n",
      "[[0.52992199 0.65255898]\n",
      " [0.53553913 0.65498317]]\n",
      "Loss: \n",
      "0.2631613344676721\n",
      "\n",
      "\n"
     ]
    },
    {
     "data": {
      "text/markdown": [
       "**Result for::**50\n",
       "**iteration**"
      ],
      "text/plain": [
       "<IPython.core.display.Markdown object>"
      ]
     },
     "metadata": {},
     "output_type": "display_data"
    },
    {
     "name": "stdout",
     "output_type": "stream",
     "text": [
      "for iteration # 50\n",
      "\n",
      "Input: \n",
      "[[0.6 0.1]\n",
      " [0.2 0.3]]\n",
      "Actual Output: \n",
      "[[1 0]\n",
      " [0 1]]\n",
      "Predicted Output: \n",
      "[[0.23487579 0.78917535]\n",
      " [0.23735078 0.79118935]]\n",
      "Loss: \n",
      "0.32703751761138666\n",
      "\n",
      "\n"
     ]
    }
   ],
   "source": [
    "import numpy as np\n",
    "from IPython.display import Markdown, display\n",
    "X=np.array(([0.6,0.1],[0.2,0.3]),dtype=float)\n",
    "y=np.array(([1,0],[0,1]))\n",
    "#activation function\n",
    "def sigmoid(t):\n",
    "    return 1/(1+np.exp(-t))\n",
    "\n",
    "#derivative of sigmoid\n",
    "def sigmoid_derivative(p):\n",
    "    return p*(1-p)\n",
    "\n",
    "class NeuralNetwork:\n",
    "    def __init__(self,X,y):\n",
    "        self.input = X\n",
    "        self.weight1 = np.array([[0.1,-0.2,0],[0.2,0.3,-0.4]])\n",
    "        self.weight2 = np.array([[-0.4,0.1],[0.6,0.2],[-0.1,-0.2]])\n",
    "        self.bias1 = np.array([[0.1,0.2,0.5]])\n",
    "        self.bias2 = np.array([[0.1,0.6]])\n",
    "        self.y = y\n",
    "        self.output = np.zeros(self.y.shape)\n",
    "    def feedforward(self):\n",
    "        self.layer = sigmoid(np.add(np.dot(self.input,self.weight1),self.bias1))\n",
    "        self.output = sigmoid(np.add(np.dot(self.layer, self.weight2),self.bias2))\n",
    "        return self.output\n",
    "    def backprop(self):\n",
    "        d_weight2 = np.dot(self.layer.T,(0.1*2*(self.y-self.output)*sigmoid_derivative(self.output)))\n",
    "        d_weight1 = np.dot(self.input.T, (np.dot(0.1*2*(self.y-self.output)*sigmoid_derivative(self.output),self.weight2.T)*sigmoid_derivative(self.layer)))\n",
    "        \n",
    "        self.weight1+=d_weight1\n",
    "        self.weight2+=d_weight2\n",
    "        \n",
    "        k = np.dot(0.1*2*(self.y-self.output),sigmoid_derivative(self.layer))\n",
    "        add_row = np.array([[0,0,0]])\n",
    "        array_ = np.concatenate((k, add_row), axis=0)\n",
    "        d_bias1 = np.dot(self.bias1,array_)\n",
    "        d_bias2 = np.dot(self.bias2,(0.1*2*(self.y-self.output)*sigmoid_derivative(self.output)))\n",
    "        \n",
    "        self.bias1+=d_bias1\n",
    "        self.bias2+=d_bias2\n",
    "    def train(self,X,y):\n",
    "        self.output = self.feedforward()\n",
    "        self.backprop()\n",
    "\n",
    "NN = NeuralNetwork(X,y)\n",
    "for i in range(51):\n",
    "    if i%50 == 0 or i==1:\n",
    "        display(Markdown(\"**Result for::**\"+str(i)+\"\\n**iteration**\"))\n",
    "        print (\"for iteration # \"+str(i)+\"\\n\")\n",
    "        print (\"Input: \\n\"+str(X))\n",
    "        print (\"Actual Output: \\n\"+str(y))\n",
    "        print (\"Predicted Output: \\n\"+str(NN.feedforward()))\n",
    "        print (\"Loss: \\n\"+str(np.mean(np.square(y-NN.feedforward()))))\n",
    "        print (\"\\n\")\n",
    "    NN.train(X,y)"
   ]
  },
  {
   "cell_type": "code",
   "execution_count": null,
   "metadata": {},
   "outputs": [],
   "source": []
  }
 ],
 "metadata": {
  "kernelspec": {
   "display_name": "Python 3",
   "language": "python",
   "name": "python3"
  },
  "language_info": {
   "codemirror_mode": {
    "name": "ipython",
    "version": 3
   },
   "file_extension": ".py",
   "mimetype": "text/x-python",
   "name": "python",
   "nbconvert_exporter": "python",
   "pygments_lexer": "ipython3",
   "version": "3.6.9"
  }
 },
 "nbformat": 4,
 "nbformat_minor": 2
}
