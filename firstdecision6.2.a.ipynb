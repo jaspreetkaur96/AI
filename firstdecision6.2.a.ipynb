{
 "cells": [
  {
   "cell_type": "code",
   "execution_count": 1,
   "metadata": {
    "scrolled": false
   },
   "outputs": [],
   "source": [
    "import numpy as np \n",
    "import pandas as pd \n",
    "from sklearn.metrics import confusion_matrix \n",
    "#from sklearn.cross_validation import train_test_split \n",
    "from sklearn.tree import DecisionTreeClassifier \n",
    "from sklearn import tree\n",
    "from sklearn import preprocessing\n",
    "from sklearn.model_selection import train_test_split\n",
    "  \n",
    "# Function importing Dataset \n",
    "def importdata(): \n",
    "    balance_data = pd.read_csv(\"ai.csv\",sep=',')\n",
    "    balance_data.drop('Day',axis=1,inplace=True)\n",
    "    print (\"Dataset: \",balance_data.head()) \n",
    "    return balance_data \n",
    "  \n",
    "# Function to split the dataset \n",
    "def splitdataset(balance_data): \n",
    "    # Import LabelEncoder\n",
    "    import numpy as np\n",
    "    from sklearn import preprocessing\n",
    "    #creating labelEncoder\n",
    "    le = preprocessing.LabelEncoder()\n",
    "    # Converting string labels into numbers.\n",
    "    Outlook_encoded=le.fit_transform(balance_data['Outlook'])\n",
    "    Temp_encoded=le.fit_transform(balance_data['Temp'])\n",
    "    Humidity_encoded=le.fit_transform(balance_data['Humidity'])\n",
    "    Wind_encoded=le.fit_transform(balance_data['Wind'])\n",
    "    Tennis_encoded=le.fit_transform(balance_data['Tennis'])\n",
    "\n",
    "    features=list(zip(Outlook_encoded,Temp_encoded,Humidity_encoded,Wind_encoded)) \n",
    "    print (features)\n",
    "    \n",
    "    X=features\n",
    "    y=balance_data.Tennis\n",
    "    X_train, X_test, y_train, y_test = train_test_split(X, y, test_size = 0.7, random_state = 0) \n",
    "      \n",
    "    return X, y, X_train, X_test, y_train, y_test \n",
    "      \n",
    "# Function to perform training with giniIndex. \n",
    "def train_using_gini(X_train, X_test, y_train, y_test): \n",
    "  \n",
    "    # Creating the classifier object \n",
    "    clf_gini = tree.DecisionTreeClassifier(criterion = \"gini\", random_state = 0) \n",
    "  \n",
    "    # Performing training \n",
    "    clf_gini = clf_gini.fit(X_train, y_train)\n",
    "    print(\"Results Using Gini Index:\") \n",
    "    y_pred = clf_gini.predict(X_test)\n",
    "    y_pred1 = clf_gini.predict([[2,0,0,1]])\n",
    "    y_pred2 = clf_gini.predict([[1,1,0,1]])\n",
    "    print(\"Prediction part a) \",y_pred1)\n",
    "    print(\"Prediction part b) \",y_pred2)\n",
    "    return clf_gini \n",
    "      \n",
    "# Function to perform training with entropy. \n",
    "def train_using_entropy(X_train, X_test, y_train, y_test): \n",
    "    clf_entropy = tree.DecisionTreeClassifier(criterion = \"entropy\", random_state = 0) \n",
    "    clf_entropy = clf_entropy.fit(X_train, y_train) \n",
    "    print(\"Results Using Information Gain:\") \n",
    "    y_pred = clf_entropy.predict(X_test)\n",
    "    y_pred1=clf_entropy.predict([[2,0,0,1]])\n",
    "    y_pred2=clf_entropy.predict([[1,1,0,1]])\n",
    "    print(\"Prediction part a) \",y_pred1)\n",
    "    print(\"Prediction part b) \",y_pred2)\n",
    "    return clf_entropy \n"
   ]
  },
  {
   "cell_type": "code",
   "execution_count": 2,
   "metadata": {},
   "outputs": [
    {
     "name": "stdout",
     "output_type": "stream",
     "text": [
      "Dataset:      Outlook  Temp Humidity    Wind Tennis\n",
      "0     Sunny   Hot     High    Weak     No\n",
      "1     Sunny   Hot     High  Strong     No\n",
      "2  Overcast   Hot     High    Weak    Yes\n",
      "3      Rain  Mild     High    Weak    Yes\n",
      "4      Rain  Cool   Normal    Weak    Yes\n",
      "[(2, 1, 0, 1), (2, 1, 0, 0), (0, 1, 0, 1), (1, 2, 0, 1), (1, 0, 1, 1), (1, 0, 1, 0), (0, 0, 1, 0), (2, 2, 0, 1), (2, 0, 1, 1), (1, 2, 1, 1), (2, 2, 1, 0), (0, 2, 0, 0), (0, 1, 1, 1), (1, 2, 0, 0)]\n",
      "Results Using Gini Index:\n",
      "Prediction part a)  ['No']\n",
      "Prediction part b)  ['Yes']\n",
      "Results Using Information Gain:\n",
      "Prediction part a)  ['No']\n",
      "Prediction part b)  ['Yes']\n"
     ]
    }
   ],
   "source": [
    "# Driver code \n",
    "def main(): \n",
    "      \n",
    "    # Building Phase \n",
    "    data = importdata() \n",
    "    X, y, X_train, X_test, y_train, y_test = splitdataset(data) \n",
    "    clf_gini = train_using_gini(X_train, X_test, y_train, y_test) \n",
    "    clf_entropy = train_using_entropy(X_train, X_test, y_train , y_test) \n",
    "      \n",
    "# Calling main function \n",
    "if __name__==\"__main__\": \n",
    "    main()"
   ]
  }
 ],
 "metadata": {
  "kernelspec": {
   "display_name": "Python 3",
   "language": "python",
   "name": "python3"
  },
  "language_info": {
   "codemirror_mode": {
    "name": "ipython",
    "version": 3
   },
   "file_extension": ".py",
   "mimetype": "text/x-python",
   "name": "python",
   "nbconvert_exporter": "python",
   "pygments_lexer": "ipython3",
   "version": "3.6.9"
  }
 },
 "nbformat": 4,
 "nbformat_minor": 2
}
